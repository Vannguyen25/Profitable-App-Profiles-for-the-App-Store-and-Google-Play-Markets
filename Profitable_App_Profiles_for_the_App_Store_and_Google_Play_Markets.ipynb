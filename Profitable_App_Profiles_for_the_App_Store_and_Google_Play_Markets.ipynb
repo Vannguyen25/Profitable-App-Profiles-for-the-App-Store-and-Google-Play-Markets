{
 "cells": [
  {
   "cell_type": "markdown",
   "id": "16ebe63d-327b-4c42-ae96-39ac9064fe12",
   "metadata": {},
   "source": [
    "# Profitable App Profiles for the App Store and Google Play Markets"
   ]
  },
  {
   "cell_type": "markdown",
   "id": "bcfc0665-a741-4079-87c9-f629cefebacb",
   "metadata": {},
   "source": [
    "* Mục tiêu của dự án này để giúp các nhà phát triển hiểu được loại ứng dụng nào thu hút người dùng sử dụng, từ đó xây dựng được các ứng dụng có khả năng mở rộng và tiếp cận đông đảo người sử dụng\n",
    "* Đối tượng phân tích là danh sách ứng dụng trên App Store và Google Play, bao gồm các thông tin như : ID, Rating, Category, Genres,...\n"
   ]
  },
  {
   "cell_type": "markdown",
   "id": "4a7f70be-3082-4d9a-b585-b35b6c5bf771",
   "metadata": {},
   "source": [
    "Hai tập dữ liệu được sử dụng là: \n",
    "* Tập dữ liệu chứa dữ liệu về khoảng 10.000 ứng dụng Android từ Google Play; dữ liệu được thu thập vào tháng 8 năm 2018. [googleplaystore.csv](https://dq-content.s3.amazonaws.com/350/googleplaystore.csv)\n",
    "* Một tập dữ liệu chứa dữ liệu về khoảng 7.000 ứng dụng iOS từ App Store; dữ liệu được thu thập vào tháng 7 năm 2017 [AppleStore.csv](https://dq-content.s3.amazonaws.com/350/AppleStore.csv)"
   ]
  },
  {
   "cell_type": "code",
   "execution_count": 1,
   "id": "c8bc189e-0894-4573-9103-1acbfaf35b80",
   "metadata": {},
   "outputs": [],
   "source": [
    "import csv"
   ]
  },
  {
   "cell_type": "code",
   "execution_count": 2,
   "id": "5b5fec59-0c6d-469f-a81d-28088f698476",
   "metadata": {},
   "outputs": [],
   "source": [
    "googleplay_file = open('googleplaystore.csv',encoding='utf8', mode = 'r')\n",
    "appstore_file = open('AppleStore.csv',encoding='utf8', mode = 'r')\n",
    "googleplay_data = list(csv.reader(googleplay_file, delimiter = ','))\n",
    "appstore_data = list(csv.reader(appstore_file, delimiter = ','))"
   ]
  },
  {
   "cell_type": "code",
   "execution_count": 3,
   "id": "ebdea904-fce0-4887-a25c-a5e5425c1510",
   "metadata": {},
   "outputs": [],
   "source": [
    "def Explore(dataset, start, end, row_and_column = False):\n",
    "    data_slice = dataset[start:end]\n",
    "    for row in data_slice:\n",
    "        print(row)\n",
    "    if row_and_column:\n",
    "        print(\"Number rows of dataset: \" , len(dataset))\n",
    "        print(\"Number columns of dataset: \" , len(dataset[0]))"
   ]
  },
  {
   "cell_type": "code",
   "execution_count": 4,
   "id": "c590af25-a635-42d4-b512-96e73dec7669",
   "metadata": {},
   "outputs": [
    {
     "name": "stdout",
     "output_type": "stream",
     "text": [
      "['Photo Editor & Candy Camera & Grid & ScrapBook', 'ART_AND_DESIGN', '4.1', '159', '19M', '10,000+', 'Free', '0', 'Everyone', 'Art & Design', 'January 7, 2018', '1.0.0', '4.0.3 and up']\n",
      "['Coloring book moana', 'ART_AND_DESIGN', '3.9', '967', '14M', '500,000+', 'Free', '0', 'Everyone', 'Art & Design;Pretend Play', 'January 15, 2018', '2.0.0', '4.0.3 and up']\n",
      "Number rows of dataset:  10842\n",
      "Number columns of dataset:  13\n",
      "['284882215', 'Facebook', '389879808', 'USD', '0.0', '2974676', '212', '3.5', '3.5', '95.0', '4+', 'Social Networking', '37', '1', '29', '1']\n",
      "Number rows of dataset:  7198\n",
      "Number columns of dataset:  16\n"
     ]
    }
   ],
   "source": [
    "Explore(googleplay_data, 1, 3, True)\n",
    "Explore(appstore_data, 1,2, True)"
   ]
  },
  {
   "cell_type": "markdown",
   "id": "4ab84259-b1ad-41a7-a3c2-93fae72e0fc8",
   "metadata": {},
   "source": [
    "## Làm sạch dữ liệu ##\n",
    "Yêu cầu: \n",
    " * Xóa dữ liệu sai\n",
    " * Xóa dữ liệu trùng lặp\n",
    " * Xóa các ứng dụng không phải miễn phí\n",
    " * Xóa các ứng dụng không phải dành cho người nói tiếng Anh \n",
    "    "
   ]
  },
  {
   "cell_type": "markdown",
   "id": "6065b75e-c57c-4915-8f76-b2990929e852",
   "metadata": {},
   "source": [
    "Trong bộ dữ liệu về Google Play, tồn tại một số hàng có các nhập không đúng yêu cầu,"
   ]
  },
  {
   "cell_type": "code",
   "execution_count": 5,
   "id": "d59e2d40-52a7-4800-96e1-1f8e5e7b1373",
   "metadata": {},
   "outputs": [
    {
     "name": "stdout",
     "output_type": "stream",
     "text": [
      "10473 : \n",
      "['Life Made WI-Fi Touchscreen Photo Frame', '1.9', '19', '3.0M', '1,000+', 'Free', '0', 'Everyone', '', 'February 11, 2018', '1.0.19', '4.0 and up']\n"
     ]
    }
   ],
   "source": [
    "len_data = len(googleplay_data[0])\n",
    "for index, row in enumerate(googleplay_data):\n",
    "    if len(row)!= len_data:\n",
    "        print(index , \": \")\n",
    "        print(row)\n",
    "len_data = len(appstore_data[0])\n",
    "for index, row in enumerate(appstore_data):\n",
    "    if len(row)!= len_data:\n",
    "        print(index , \": \")\n",
    "        print(row)"
   ]
  },
  {
   "cell_type": "markdown",
   "id": "04747650-8265-4f53-960b-905e42b39874",
   "metadata": {},
   "source": [
    "Ta sẽ trực tiếp xóa hàng sai:"
   ]
  },
  {
   "cell_type": "code",
   "execution_count": 6,
   "id": "0700980a-0cb8-4049-89a2-2e1af0e7f831",
   "metadata": {},
   "outputs": [
    {
     "name": "stdout",
     "output_type": "stream",
     "text": [
      "['osmino Wi-Fi: free WiFi', 'TOOLS', '4.2', '134203', '4.1M', '10,000,000+', 'Free', '0', 'Everyone', 'Tools', 'August 7, 2018', '6.06.14', '4.4 and up']\n"
     ]
    }
   ],
   "source": [
    "del (googleplay_data[10473])\n",
    "print(googleplay_data[10473])"
   ]
  },
  {
   "cell_type": "code",
   "execution_count": 7,
   "id": "f28a648a-984a-4da2-8541-8dd7645420f9",
   "metadata": {},
   "outputs": [
    {
     "name": "stdout",
     "output_type": "stream",
     "text": [
      "['Instagram', 'SOCIAL', '4.5', '66577313', 'Varies with device', '1,000,000,000+', 'Free', '0', 'Teen', 'Social', 'July 31, 2018', 'Varies with device', 'Varies with device']\n",
      "['Instagram', 'SOCIAL', '4.5', '66577446', 'Varies with device', '1,000,000,000+', 'Free', '0', 'Teen', 'Social', 'July 31, 2018', 'Varies with device', 'Varies with device']\n",
      "['Instagram', 'SOCIAL', '4.5', '66577313', 'Varies with device', '1,000,000,000+', 'Free', '0', 'Teen', 'Social', 'July 31, 2018', 'Varies with device', 'Varies with device']\n",
      "['Instagram', 'SOCIAL', '4.5', '66509917', 'Varies with device', '1,000,000,000+', 'Free', '0', 'Teen', 'Social', 'July 31, 2018', 'Varies with device', 'Varies with device']\n"
     ]
    }
   ],
   "source": [
    "for row in googleplay_data:\n",
    "    if row[0] == \"Instagram\":\n",
    "        print(row)"
   ]
  },
  {
   "cell_type": "code",
   "execution_count": 8,
   "id": "427e546b-85b4-4d9c-a485-9d9a37b2e742",
   "metadata": {
    "scrolled": true
   },
   "outputs": [
    {
     "name": "stdout",
     "output_type": "stream",
     "text": [
      "['Free', 'Paid', 'NaN']\n",
      "['0.0', '1.99', '0.99', '6.99', '2.99', '7.99', '4.99', '9.99', '3.99', '8.99', '5.99', '14.99', '13.99', '19.99', '17.99', '15.99', '24.99', '20.99', '29.99', '12.99', '39.99', '74.99', '16.99', '249.99', '11.99', '27.99', '49.99', '59.99', '22.99', '18.99', '99.99', '21.99', '34.99', '299.99', '23.99', '47.99']\n"
     ]
    }
   ],
   "source": [
    "# Kiểm tra các giá trị của Price/ Type\n",
    "Type_google = []\n",
    "Type_appstore = []\n",
    "for i in googleplay_data[1:]:\n",
    "    if i[6] not in Type_google:\n",
    "        Type_google.append(i[6])\n",
    "print(Type_google)\n",
    "for i in appstore_data[1:]:\n",
    "    if i[4] not in Type_appstore:\n",
    "        Type_appstore.append(i[4])\n",
    "print(Type_appstore)"
   ]
  },
  {
   "cell_type": "markdown",
   "id": "0616eaf3-d275-4da2-b754-20659e8a203a",
   "metadata": {},
   "source": [
    "> Như vậy để lọc các ứng dụng miễn phí, chúng ta lọc ra các ứng dụng có cột Type mang giá trị \"Free\" trong tập dữ liệu Google Play và cột Price có giá trị \"0: trong tập dữ liệu Appstore"
   ]
  },
  {
   "cell_type": "markdown",
   "id": "deecacef-ee34-411a-b5bf-f04898aa14c4",
   "metadata": {},
   "source": [
    "Trong tập dữ liệu, tồn tại nhiều hàng có thông tin chung về một ứng dụng tại một phiên bản. Ví dụ dưới đây khi kiểm tra lặp lại của ứng dụng \"Instagram\"\n"
   ]
  },
  {
   "cell_type": "code",
   "execution_count": 9,
   "id": "125904ee-d8a6-4b70-a60c-0bc9bffa0948",
   "metadata": {},
   "outputs": [
    {
     "name": "stdout",
     "output_type": "stream",
     "text": [
      "['Instagram', 'SOCIAL', '4.5', '66577313', 'Varies with device', '1,000,000,000+', 'Free', '0', 'Teen', 'Social', 'July 31, 2018', 'Varies with device', 'Varies with device']\n",
      "['Instagram', 'SOCIAL', '4.5', '66577446', 'Varies with device', '1,000,000,000+', 'Free', '0', 'Teen', 'Social', 'July 31, 2018', 'Varies with device', 'Varies with device']\n",
      "['Instagram', 'SOCIAL', '4.5', '66577313', 'Varies with device', '1,000,000,000+', 'Free', '0', 'Teen', 'Social', 'July 31, 2018', 'Varies with device', 'Varies with device']\n",
      "['Instagram', 'SOCIAL', '4.5', '66509917', 'Varies with device', '1,000,000,000+', 'Free', '0', 'Teen', 'Social', 'July 31, 2018', 'Varies with device', 'Varies with device']\n"
     ]
    }
   ],
   "source": [
    "for row in googleplay_data:\n",
    "    if row[0] == \"Instagram\":\n",
    "        print(row)"
   ]
  },
  {
   "cell_type": "markdown",
   "id": "5b82e534-12b6-4204-95ae-a75e7638fa10",
   "metadata": {},
   "source": [
    "Chiến lược ở đây là xóa các hàng trùng lặp, để lại hàng có lượt đánh giá nhiều nhất"
   ]
  },
  {
   "cell_type": "markdown",
   "id": "18359c22-5a12-4f64-91db-203e5a56dac7",
   "metadata": {},
   "source": [
    "Bên cạnh đó trong dữ liệu về các ứng dụng, tồn tại nhiều ứng dụng không dành cho người nói Tiếng anh, ví dụ sau về một ứng dụng trong Google Play:"
   ]
  },
  {
   "cell_type": "code",
   "execution_count": 10,
   "id": "14a58c12-1833-40d3-8b41-88ca2ecc5a67",
   "metadata": {},
   "outputs": [
    {
     "name": "stdout",
     "output_type": "stream",
     "text": [
      "['パーリーゲイツ公式通販｜EJ STYLE（イージェイスタイル）', 'SHOPPING', 'NaN', '1', '9.3M', '100+', 'Free', '0', 'Everyone', 'Shopping', 'November 16, 2017', '3.0', '4.0.3 and up']\n"
     ]
    }
   ],
   "source": [
    "print(googleplay_data[9467])"
   ]
  },
  {
   "cell_type": "markdown",
   "id": "3a3e45b4-663c-45e1-97b6-44276835dd13",
   "metadata": {},
   "source": [
    "Mỗi chữ cái khi được lưu trong máy tính sẽ có 1 số tương ứng, chúng ta có thể lấy số tương ứng đó với hàm ord()"
   ]
  },
  {
   "cell_type": "code",
   "execution_count": 11,
   "id": "9404566b-41b2-41d5-a57d-7cc10d1bddb7",
   "metadata": {},
   "outputs": [
    {
     "name": "stdout",
     "output_type": "stream",
     "text": [
      "12466\n",
      "97\n"
     ]
    }
   ],
   "source": [
    "print(ord('ゲ'))\n",
    "print(ord('a'))"
   ]
  },
  {
   "cell_type": "markdown",
   "id": "e11b4060-ec16-49a7-b109-fd438509eef0",
   "metadata": {},
   "source": [
    "Các chữ cái latin, số, dấu có số tự nhiên tương ứng nhỏ hơn 127, nếu trong chuỗi có kí tự mà số tương ứng của nó lớn hơn 127 thì chúng tồn tại các kí tự khác các kí tự người Anh sử dụng"
   ]
  },
  {
   "cell_type": "markdown",
   "id": "66e0ccca-2abd-4f22-b165-3ae3cb38a68b",
   "metadata": {},
   "source": [
    "Tuy nhiên nếu chỉ kiểm tra số nguyên tương ứng, rất có thể ta bị mất dữ liệu do một số ứng dụng cho người Anh có sử dụng các kí hiệu. Ví dụ: \n",
    "\n",
    "'Docs To Go™ Free Office Suite''Instachat 😜'™"
   ]
  },
  {
   "cell_type": "code",
   "execution_count": 12,
   "id": "8c0ce957-d25e-4cdb-be6f-e234db993b96",
   "metadata": {},
   "outputs": [
    {
     "name": "stdout",
     "output_type": "stream",
     "text": [
      "128540\n",
      "8482\n"
     ]
    }
   ],
   "source": [
    "print(ord('😜'))\n",
    "print(ord('™'))"
   ]
  },
  {
   "cell_type": "markdown",
   "id": "11bfc7ce-deed-41b0-b4d7-3ea4907d69c8",
   "metadata": {},
   "source": [
    "Chiến lược loại bỏ ứng dụng ở đây là đếm số lượng kí tự có số tương ứng lớn hơn 127, nếu có quá 3 kí tự không thuộc mã ASCII ( bảng các chữ cái có số tương ứng nhỏ hơn 128 ) thì sẽ loại kí tự đó"
   ]
  },
  {
   "cell_type": "code",
   "execution_count": 13,
   "id": "8ca648eb-fc8b-4c72-af9b-80bce79c6e6f",
   "metadata": {},
   "outputs": [],
   "source": [
    "def Check_non_Ascii(string):\n",
    "    count = 0 # Khởi tạo biến đếm số kí tự lớn hơn 127\n",
    "    for letter in string:\n",
    "        if ord(letter) > 127 :\n",
    "            count +=1\n",
    "    if count > 3:\n",
    "        return True\n",
    "    else:\n",
    "        return False"
   ]
  },
  {
   "cell_type": "markdown",
   "id": "f0e37494-e03c-42bb-8f44-cc3ee02370b2",
   "metadata": {},
   "source": [
    "### Tổng hợp code, loại bỏ các ứng dụng không miễn phí, không phải dành cho Tiếng Anh, trùng lặp"
   ]
  },
  {
   "cell_type": "code",
   "execution_count": 14,
   "id": "05f7dbbc-eb63-4152-9307-c506fd761e77",
   "metadata": {},
   "outputs": [],
   "source": [
    "# Lọc các ứng dụng không miễn phí, không phải tiếng Anh, trùng lặp\n",
    "android_clean = []\n",
    "android_clean.append(googleplay_data[1])\n",
    "ios_clean = []\n",
    "ios_clean.append(appstore_data[1])\n",
    "\n",
    "i = 1\n",
    "length_google = len(googleplay_data)\n",
    "length_appstore = len(appstore_data)\n",
    "\n",
    "# Xử lý Google Play\n",
    "while (i < length_google):\n",
    "    row = googleplay_data[i]\n",
    "    # chuyển lượng người dùng sang int\n",
    "    row[3] = int(row[3])  \n",
    "    if Check_non_Ascii(row[0]) or row[6] != \"Free\": # Kiểm tra tên ứng dụng có dành cho người sử dụng Tiếng Anh và miễn phí hay không\n",
    "        i += 1\n",
    "    else:\n",
    "        # Nếu có, tìm trong list danh sách duy nhất các ứng dụng\n",
    "        flag = True\n",
    "        for index, element in enumerate(android_clean):\n",
    "             # Nếu đã có trong danh sách, thì so sánh lượng đánh giá\n",
    "            if row[0] == element[0]:\n",
    "                flag = False\n",
    "                if row[3] > element[3]:\n",
    "                    android_clean[index] = row.copy()\n",
    "                break\n",
    "        if flag:\n",
    "            android_clean.append(row)\n",
    "        i += 1\n",
    "\n",
    "# Xử lý App Store\n",
    "i = 1\n",
    "while (i < length_appstore):\n",
    "    row = appstore_data[i]\n",
    "    row[6] = int(row[6])\n",
    "    if Check_non_Ascii(row[1]) or float(row[4]) != 0: # Kiểm tra tên ứng dụng có dành cho người sử dụng Tiếng Anh và miễn phí hay không\n",
    "        i += 1\n",
    "    else: \n",
    "        # Nếu có, tìm trong list danh sách duy nhất các ứng dụng\n",
    "        flag = True\n",
    "        for index, element in enumerate(ios_clean):\n",
    "            # Nếu đã có trong danh sách, thì so sánh lượng đánh giá\n",
    "            if row[1] == element[1]: \n",
    "                flag = False\n",
    "                if row[6] > element[6]: \n",
    "                    ios_clean[index] = row.copy()\n",
    "                break\n",
    "        if flag:\n",
    "            ios_clean.append(row)\n",
    "        i += 1\n"
   ]
  },
  {
   "cell_type": "markdown",
   "id": "d2b112ec-a79c-466d-a684-105d8b77e05b",
   "metadata": {},
   "source": [
    "# Phân tích độ phổ biến các thể loại, xếp hạng các thể loại ứng dụng theo tiêu chí Rating và Install\n",
    " Đến nay, dữ liệu đã được lọc sạch, quay lại với mục tiêu xây dựng ứng dụng thu hút người dùng, chiến lược hoạt động của ứng dụng sẽ trải qua 3 bước: \n",
    "* Vận hành ứng dụng phiên bản tối thiểu trên Android\n",
    "* Nếu ứng dụng có phản hồi tốt, ứng dụng sẽ được tiếp tục phát triển\n",
    "* Nếu ứng dụng có lãi sau sáu tháng, ứng dụng sẽ được vận hành lên trên IOS\n",
    "Do đó nhu cầu của chúng ta là có thể tìm ra một ứng dụng có profile tốt, thành công trên cả 2 thị trường Android và Ios  "
   ]
  },
  {
   "cell_type": "markdown",
   "id": "f4146d15-a334-4d92-88a4-7e14eb293583",
   "metadata": {},
   "source": [
    "## Phân tích các thể loại phổ biến trong bộ dữ liệu bằng cách đếm số lượng ứng dụng\n",
    "\n",
    "Xây dựng hàm in ra tần suất của các hàng cần thiết"
   ]
  },
  {
   "cell_type": "code",
   "execution_count": 16,
   "id": "24340d34-6947-4814-a561-d0a821964750",
   "metadata": {},
   "outputs": [],
   "source": [
    "def freq_table( dataset, index ): # Hàm nhận vào dataset và in ra tần suất các giá trị trong cột thứ [index]\n",
    "    freq_dict = {}\n",
    "    for row in dataset:\n",
    "        if row[index-1] in freq_dict:\n",
    "            freq_dict[row[index-1]] +=1\n",
    "        else:\n",
    "            freq_dict[row[index-1]] = 1\n",
    "    return freq_dict"
   ]
  },
  {
   "cell_type": "code",
   "execution_count": 17,
   "id": "73b0d8ed-53cb-4cd1-81f0-4e683c854316",
   "metadata": {},
   "outputs": [
    {
     "name": "stdout",
     "output_type": "stream",
     "text": [
      "{'ART_AND_DESIGN': 57, 'FAMILY': 1675, 'AUTO_AND_VEHICLES': 82, 'BEAUTY': 53, 'BOOKS_AND_REFERENCE': 190, 'BUSINESS': 407, 'COMICS': 55, 'COMMUNICATION': 287, 'DATING': 165, 'EDUCATION': 103, 'ENTERTAINMENT': 85, 'EVENTS': 63, 'FINANCE': 328, 'FOOD_AND_DRINK': 110, 'HEALTH_AND_FITNESS': 273, 'HOUSE_AND_HOME': 73, 'TOOLS': 750, 'LIBRARIES_AND_DEMO': 83, 'LIFESTYLE': 346, 'GAME': 862, 'VIDEO_PLAYERS': 159, 'MEDICAL': 313, 'SOCIAL': 236, 'SHOPPING': 199, 'PHOTOGRAPHY': 261, 'SPORTS': 301, 'TRAVEL_AND_LOCAL': 207, 'PERSONALIZATION': 294, 'PRODUCTIVITY': 345, 'PARENTING': 58, 'WEATHER': 71, 'NEWS_AND_MAGAZINES': 248, 'MAPS_AND_NAVIGATION': 124}\n"
     ]
    }
   ],
   "source": [
    "print( freq_table( android_clean, 2))"
   ]
  },
  {
   "cell_type": "markdown",
   "id": "ca41e1c0-537e-499a-954b-36e277f7ef7a",
   "metadata": {},
   "source": [
    "Tạo hàm để in bảng tần số theo thứ tự"
   ]
  },
  {
   "cell_type": "code",
   "execution_count": 45,
   "id": "0ac3a057-7751-4d49-b1de-89278d590e25",
   "metadata": {},
   "outputs": [],
   "source": [
    "def display_table(dataset, index ):\n",
    "    freq_tb = freq_table(dataset, index)\n",
    "    data_freq_list = []\n",
    "    for row in freq_tb:\n",
    "        row_tuple = (freq_tb[row], row)\n",
    "        data_freq_list.append(row_tuple)\n",
    "    data_freq_list = sorted(data_freq_list, reverse = True)\n",
    "    sum = 0\n",
    "    for row in data_freq_list:\n",
    "        print(row[1] ,\" : \", row[0]/len(dataset) * 100)\n",
    "        sum += row[0]\n"
   ]
  },
  {
   "cell_type": "code",
   "execution_count": 46,
   "id": "cb903e6c-2b7b-45fc-9551-f96bd556f26c",
   "metadata": {},
   "outputs": [
    {
     "name": "stdout",
     "output_type": "stream",
     "text": [
      "Games  :  58.13664596273293\n",
      "Entertainment  :  7.888198757763975\n",
      "Photo & Video  :  4.968944099378882\n",
      "Education  :  3.6645962732919255\n",
      "Social Networking  :  3.291925465838509\n",
      "Shopping  :  2.608695652173913\n",
      "Utilities  :  2.515527950310559\n",
      "Sports  :  2.142857142857143\n",
      "Music  :  2.049689440993789\n",
      "Health & Fitness  :  2.018633540372671\n",
      "Productivity  :  1.7391304347826086\n",
      "Lifestyle  :  1.5838509316770186\n",
      "News  :  1.3354037267080745\n",
      "Travel  :  1.2422360248447204\n",
      "Finance  :  1.1180124223602486\n",
      "Weather  :  0.8695652173913043\n",
      "Food & Drink  :  0.8074534161490683\n",
      "Reference  :  0.5590062111801243\n",
      "Business  :  0.5279503105590062\n",
      "Book  :  0.43478260869565216\n",
      "Navigation  :  0.18633540372670807\n",
      "Medical  :  0.18633540372670807\n",
      "Catalogs  :  0.12422360248447205\n"
     ]
    }
   ],
   "source": [
    "display_table(ios_clean,12)"
   ]
  },
  {
   "cell_type": "markdown",
   "id": "72bdb157-b8ee-44bd-b4b0-105f319021ec",
   "metadata": {},
   "source": [
    "Từ bảng tần suất ta có thể thấy rằng trong các ứng dụng top của __Appstore__\n",
    "* Thể loại ứng dụng được sử dụng nhiều nhất là __Games__ ( > 50% )\n",
    "* Thể loại phổ biến tiếp theo là __Entertainment__\n",
    "* Ta có thể thấy rằng các ứng dụng phục vụ hoạt động giải trí của con người như Games, Entertainment, Photo & Video chiếm đa số ứng dụng top trên Appstore (~ 80%). \n",
    "Một đề xuất là xây dựng ứng dụng có Tính Games hay còn gọi là xu hướng gamification, bên cạnh đó ứng dụng cần có tính Social Connect, tạo được các cộng đồng người dùng trong ứng dụng"
   ]
  },
  {
   "cell_type": "code",
   "execution_count": 20,
   "id": "08b135fc-dc56-4fac-b30e-c1719e431bec",
   "metadata": {},
   "outputs": [
    {
     "name": "stdout",
     "output_type": "stream",
     "text": [
      "FAMILY  :  1675\n",
      "GAME  :  862\n",
      "TOOLS  :  750\n",
      "BUSINESS  :  407\n",
      "LIFESTYLE  :  346\n",
      "PRODUCTIVITY  :  345\n",
      "FINANCE  :  328\n",
      "MEDICAL  :  313\n",
      "SPORTS  :  301\n",
      "PERSONALIZATION  :  294\n",
      "COMMUNICATION  :  287\n",
      "HEALTH_AND_FITNESS  :  273\n",
      "PHOTOGRAPHY  :  261\n",
      "NEWS_AND_MAGAZINES  :  248\n",
      "SOCIAL  :  236\n",
      "TRAVEL_AND_LOCAL  :  207\n",
      "SHOPPING  :  199\n",
      "BOOKS_AND_REFERENCE  :  190\n",
      "DATING  :  165\n",
      "VIDEO_PLAYERS  :  159\n",
      "MAPS_AND_NAVIGATION  :  124\n",
      "FOOD_AND_DRINK  :  110\n",
      "EDUCATION  :  103\n",
      "ENTERTAINMENT  :  85\n",
      "LIBRARIES_AND_DEMO  :  83\n",
      "AUTO_AND_VEHICLES  :  82\n",
      "HOUSE_AND_HOME  :  73\n",
      "WEATHER  :  71\n",
      "EVENTS  :  63\n",
      "PARENTING  :  58\n",
      "ART_AND_DESIGN  :  57\n",
      "COMICS  :  55\n",
      "BEAUTY  :  53\n",
      "\n",
      " Genres: \n",
      "Tools  :  749\n",
      "Entertainment  :  538\n",
      "Education  :  474\n",
      "Business  :  407\n",
      "Productivity  :  345\n",
      "Lifestyle  :  345\n",
      "Finance  :  328\n",
      "Medical  :  313\n",
      "Sports  :  307\n",
      "Personalization  :  294\n",
      "Communication  :  287\n",
      "Action  :  275\n",
      "Health & Fitness  :  273\n",
      "Photography  :  261\n",
      "News & Magazines  :  248\n",
      "Social  :  236\n",
      "Travel & Local  :  206\n",
      "Shopping  :  199\n",
      "Books & Reference  :  190\n",
      "Simulation  :  181\n",
      "Dating  :  165\n",
      "Arcade  :  164\n",
      "Video Players & Editors  :  157\n",
      "Casual  :  156\n",
      "Maps & Navigation  :  124\n",
      "Food & Drink  :  110\n",
      "Puzzle  :  100\n",
      "Racing  :  88\n",
      "Role Playing  :  83\n",
      "Libraries & Demo  :  83\n",
      "Auto & Vehicles  :  82\n",
      "Strategy  :  80\n",
      "House & Home  :  73\n",
      "Weather  :  71\n",
      "Events  :  63\n",
      "Adventure  :  60\n",
      "Comics  :  54\n",
      "Beauty  :  53\n",
      "Art & Design  :  53\n",
      "Parenting  :  44\n",
      "Card  :  40\n",
      "Casino  :  38\n",
      "Trivia  :  37\n",
      "Educational;Education  :  35\n",
      "Board  :  34\n",
      "Educational  :  33\n",
      "Education;Education  :  30\n",
      "Word  :  23\n",
      "Casual;Pretend Play  :  21\n",
      "Music  :  18\n",
      "Racing;Action & Adventure  :  15\n",
      "Puzzle;Brain Games  :  15\n",
      "Entertainment;Music & Video  :  15\n",
      "Casual;Brain Games  :  12\n",
      "Casual;Action & Adventure  :  12\n",
      "Arcade;Action & Adventure  :  11\n",
      "Action;Action & Adventure  :  9\n",
      "Educational;Pretend Play  :  8\n",
      "Simulation;Action & Adventure  :  7\n",
      "Parenting;Education  :  7\n",
      "Entertainment;Brain Games  :  7\n",
      "Board;Brain Games  :  7\n",
      "Parenting;Music & Video  :  6\n",
      "Educational;Brain Games  :  6\n",
      "Casual;Creativity  :  6\n",
      "Art & Design;Creativity  :  6\n",
      "Education;Pretend Play  :  5\n",
      "Role Playing;Pretend Play  :  4\n",
      "Education;Creativity  :  4\n",
      "Role Playing;Action & Adventure  :  3\n",
      "Puzzle;Action & Adventure  :  3\n",
      "Entertainment;Creativity  :  3\n",
      "Entertainment;Action & Adventure  :  3\n",
      "Educational;Creativity  :  3\n",
      "Educational;Action & Adventure  :  3\n",
      "Education;Music & Video  :  3\n",
      "Education;Brain Games  :  3\n",
      "Education;Action & Adventure  :  3\n",
      "Adventure;Action & Adventure  :  3\n",
      "Video Players & Editors;Music & Video  :  2\n",
      "Sports;Action & Adventure  :  2\n",
      "Simulation;Pretend Play  :  2\n",
      "Puzzle;Creativity  :  2\n",
      "Music;Music & Video  :  2\n",
      "Entertainment;Pretend Play  :  2\n",
      "Casual;Education  :  2\n",
      "Board;Action & Adventure  :  2\n",
      "Video Players & Editors;Creativity  :  1\n",
      "Trivia;Education  :  1\n",
      "Travel & Local;Action & Adventure  :  1\n",
      "Tools;Education  :  1\n",
      "Strategy;Education  :  1\n",
      "Strategy;Creativity  :  1\n",
      "Strategy;Action & Adventure  :  1\n",
      "Simulation;Education  :  1\n",
      "Role Playing;Brain Games  :  1\n",
      "Racing;Pretend Play  :  1\n",
      "Puzzle;Education  :  1\n",
      "Parenting;Brain Games  :  1\n",
      "Music & Audio;Music & Video  :  1\n",
      "Lifestyle;Pretend Play  :  1\n",
      "Lifestyle;Education  :  1\n",
      "Health & Fitness;Education  :  1\n",
      "Health & Fitness;Action & Adventure  :  1\n",
      "Entertainment;Education  :  1\n",
      "Communication;Creativity  :  1\n",
      "Comics;Creativity  :  1\n",
      "Casual;Music & Video  :  1\n",
      "Card;Action & Adventure  :  1\n",
      "Books & Reference;Education  :  1\n",
      "Art & Design;Pretend Play  :  1\n",
      "Art & Design;Action & Adventure  :  1\n",
      "Arcade;Pretend Play  :  1\n",
      "Adventure;Education  :  1\n"
     ]
    }
   ],
   "source": [
    "display_table(android_clean,2) #Catergory\n",
    "print(\"\\n Genres: \")\n",
    "display_table(android_clean, 10) #Genres\n"
   ]
  },
  {
   "cell_type": "markdown",
   "id": "e690e4cc-72b8-47b9-98da-aa95999040f1",
   "metadata": {},
   "source": [
    "Trong dữ liệu về __Google Play__, các thông tin về ứng dụng có đôi chút khác biệt, nếu ở Category, các ứng dụng FAMILY phổ biến nhất.\n",
    "\n",
    "Ở dữ liệu về Genres ta có thể thấy rằng các ứng dụng được gán mục Family lại thuộc các thể loại (Genres) khác nhau như giải trí, giáo dục, ....\n",
    "\n",
    "Tương tự như vậy ứng dụng __Game__ phổ biến thứ hai nhưng cũng thuộc các thể loại (Genres ) khác nhau\n",
    "\n",
    "Ở phần thể loại ( Genres ), Ngoài trừ Tools ( là các công cụ hỗ trợ các công việc khác nhau ) thì __Entertaiment__ vẫn là thể loại phổ biến"
   ]
  },
  {
   "cell_type": "markdown",
   "id": "145259cb-a8cf-4c9a-8def-06203b85ff0f",
   "metadata": {},
   "source": [
    "## Xếp hạng thể loại ứng dụng theo số Rating trong Appstore và Installs trong Google Play\n",
    "Mục tiêu của chúng ta là xây dựng được một ứng dụng có thể thu hút số lượng lớn khách hàng, chiến lược ban đầu là vận hành ứng dụng lên Google Play do đó chúng ta cần xây dựng một ứng dụng có thể thu hút số lượng lớn từ người dùng trong thời gian đầu, sau đó tiếp tục chỉnh sửa và vận hành lên Appstore"
   ]
  },
  {
   "cell_type": "code",
   "execution_count": 47,
   "id": "a98f444d-5c87-41e3-b887-a019f19a8d1a",
   "metadata": {},
   "outputs": [
    {
     "name": "stdout",
     "output_type": "stream",
     "text": [
      "Genres : Average Rating : Number of Apps \n",
      "Navigation  :  86090.33333333333  :  6\n",
      "Reference  :  74942.11111111111  :  18\n",
      "Social Networking  :  71548.34905660378  :  106\n",
      "Music  :  57326.530303030304  :  66\n",
      "Weather  :  52279.892857142855  :  28\n",
      "Book  :  39758.5  :  14\n",
      "Food & Drink  :  33333.92307692308  :  26\n",
      "Finance  :  31467.944444444445  :  36\n",
      "Photo & Video  :  28441.54375  :  160\n",
      "Travel  :  28243.8  :  40\n",
      "Shopping  :  26919.690476190477  :  84\n",
      "Health & Fitness  :  23298.015384615384  :  65\n",
      "Sports  :  23008.898550724636  :  69\n",
      "Games  :  22812.92467948718  :  1872\n",
      "News  :  21248.023255813954  :  43\n",
      "Productivity  :  21028.410714285714  :  56\n",
      "Utilities  :  18684.456790123455  :  81\n",
      "Lifestyle  :  16485.764705882353  :  51\n",
      "Entertainment  :  14029.830708661417  :  254\n",
      "Business  :  7491.117647058823  :  17\n",
      "Education  :  7003.983050847458  :  118\n",
      "Catalogs  :  4004.0  :  4\n",
      "Medical  :  612.0  :  6\n"
     ]
    }
   ],
   "source": [
    "freq_tb = freq_table(ios_clean, 12)\n",
    "rating_avg_list = []\n",
    "for genre in freq_tb:\n",
    "    total = 0\n",
    "    len_genre = 0\n",
    "    for row in ios_clean:\n",
    "        if row[11] == genre:\n",
    "            total += float(row[5])\n",
    "            len_genre += 1\n",
    "    new_list = [ genre, total/len_genre, len_genre]\n",
    "    rating_avg_list.append(new_list)\n",
    "rating_avg_list = sorted(rating_avg_list, key = lambda x : x[1], reverse = True)\n",
    "print(  \"Genres : Average Rating : Number of Apps \" ) \n",
    "for row in rating_avg_list:\n",
    "    print(row[0] , \" : \" , row[1] ,\" : \" , row[2])"
   ]
  },
  {
   "cell_type": "markdown",
   "id": "358c16e6-8876-496e-afd6-f94d762b943c",
   "metadata": {},
   "source": [
    "Ở đây chúng ta có một số lựa chọn cho các loại ứng dụng miễn phí trên Appstore:\n",
    "\n",
    " * Navigation ( Định hướng ), Map\n",
    "* Cách loại ứng dụng Reference như Dịch thuật, từ điển, ...\n",
    "* Mạng Xã Hội\n",
    "* Âm nhạc\n",
    "* Thời tiết\n"
   ]
  },
  {
   "cell_type": "markdown",
   "id": "e28331d8-9f89-4dec-af3c-71c3acc5c213",
   "metadata": {},
   "source": [
    "Tiếp theo chúng ta sẽ tìm các thể loại có lượng cài đặt trung bình cao nhất trong Google Play"
   ]
  },
  {
   "cell_type": "code",
   "execution_count": 44,
   "id": "2643ca3b-3da1-453b-a837-7e4c54a55c01",
   "metadata": {},
   "outputs": [
    {
     "name": "stdout",
     "output_type": "stream",
     "text": [
      "Genres : Average Rating : Number of Apps \n",
      "COMMUNICATION  :  38456119.167247385  :  287\n",
      "VIDEO_PLAYERS  :  24727872.452830188  :  159\n",
      "SOCIAL  :  23253652.127118643  :  236\n",
      "PHOTOGRAPHY  :  17840110.40229885  :  261\n",
      "PRODUCTIVITY  :  16787331.344927534  :  345\n",
      "GAME  :  15588015.603248259  :  862\n",
      "TRAVEL_AND_LOCAL  :  13984077.710144928  :  207\n",
      "ENTERTAINMENT  :  11640705.88235294  :  85\n",
      "TOOLS  :  10801391.298666667  :  750\n",
      "NEWS_AND_MAGAZINES  :  9549178.467741935  :  248\n",
      "BOOKS_AND_REFERENCE  :  8767811.894736841  :  190\n",
      "SHOPPING  :  7036877.311557789  :  199\n",
      "PERSONALIZATION  :  5201482.6122448975  :  294\n",
      "WEATHER  :  5074486.197183099  :  71\n",
      "HEALTH_AND_FITNESS  :  4188821.9853479853  :  273\n",
      "MAPS_AND_NAVIGATION  :  4056941.7741935486  :  124\n",
      "FAMILY  :  3697848.1731343283  :  1675\n",
      "SPORTS  :  3638640.1428571427  :  301\n",
      "ART_AND_DESIGN  :  1986335.0877192982  :  57\n",
      "FOOD_AND_DRINK  :  1924897.7363636363  :  110\n",
      "EDUCATION  :  1833495.145631068  :  103\n",
      "BUSINESS  :  1712290.1474201474  :  407\n",
      "LIFESTYLE  :  1437816.2687861272  :  346\n",
      "FINANCE  :  1387692.475609756  :  328\n",
      "HOUSE_AND_HOME  :  1331540.5616438356  :  73\n",
      "DATING  :  854028.8303030303  :  165\n",
      "COMICS  :  817657.2727272727  :  55\n",
      "AUTO_AND_VEHICLES  :  647317.8170731707  :  82\n",
      "LIBRARIES_AND_DEMO  :  638503.734939759  :  83\n",
      "PARENTING  :  542603.6206896552  :  58\n",
      "BEAUTY  :  513151.88679245283  :  53\n",
      "EVENTS  :  253542.22222222222  :  63\n",
      "MEDICAL  :  120550.61980830671  :  313\n"
     ]
    }
   ],
   "source": [
    "freq_tb = freq_table(android_clean, 2)\n",
    "rating_avg_list = []\n",
    "for genre in freq_tb:\n",
    "    total = 0\n",
    "    len_genre = 0\n",
    "    for row in android_clean:\n",
    "        if row[1] == genre:\n",
    "            install_num = row[5].replace('+', '')\n",
    "            install_num = install_num.replace(',', '')\n",
    "            total += float(install_num)\n",
    "            len_genre += 1\n",
    "    new_list = [ genre, total/len_genre, len_genre]\n",
    "    rating_avg_list.append(new_list)\n",
    "rating_avg_list = sorted(rating_avg_list, key = lambda x : x[1], reverse = True)\n",
    "print(  \"Genres : Average Rating : Number of Apps \" ) \n",
    "for row in rating_avg_list:\n",
    "    print(row[0] , \" : \" , row[1] ,\" : \" , row[2])"
   ]
  },
  {
   "cell_type": "markdown",
   "id": "15ecf29c-7c50-441d-ab45-f1cd9ac42dd1",
   "metadata": {},
   "source": [
    "Trong tập dữ liệu về Google Play, thể loại có số lượt tải trung bình nhiều nhất là: \n",
    "* Communication( Kết nối giao tiếp )\n",
    "* Video_players ( Trình chỉnh sửa, phát video )\n",
    "* Social ( Mạng xã hội )\n",
    "* Photography ( Nhiếp ảnh )\n",
    "* Productivity ( Năng suất công việc )\n",
    "* Game ( Trò chơi )\n",
    "  "
   ]
  },
  {
   "cell_type": "markdown",
   "id": "12039cab-d50d-4071-8aba-66b889a0bce0",
   "metadata": {},
   "source": [
    "# Tổng kết\n",
    "Với mục tiêu đề xuất được profile của ứng dụng có thể thu hút, tạo lợi nhuận trên Google Play, chúng ta có thể rút ra được một số thể loại có khả năng thu hút là các ứng dung __Kết nối giao tiếp__  và mang tính __Game hóa( Gamification)__.\n",
    "\n",
    "Nếu công ty đã có thể loại ứng dụng cụ thể ( Ví dụ một công ty luyện thi Tiếng Anh ) có thể thêm các yếu tố trên vào ứng dụng của mình đó là \n",
    ">* Tạo cộng đồng người sử dụng, chia sẻ kinh nghiệm bản thân.\n",
    ">* Bên cạnh đó là biến các hoạt động thành các trò chơi có phần thưởng, tương tự như  format của các loại Game.\n",
    "\n",
    "Nếu công ty chưa có sản phẩm định hướng cụ thể: \n",
    ">* Tôi đề nghị xây dựng một ứng dụng tọa ảnh, video, có thể gamification cho ứng dụng bằng cách tạo cơ hội dễ dàng cho họ bán sản phẩm, có AI chấm điểm chất lượng các video để mở khóa phần thưởng, tính năng mới, có xây dựng cộng đồng để mọi người chia sẻ kết quả sản phẩm.\n",
    ">* Một đề xuất khác là To Do List, cho phép thiết kế bảng lịch trình, nhắc nhở người dùng, có AI lên kế hoạch, có cộng đồng chia sẻ template, có các chuyên gia tư vấn về năng suất làm việc."
   ]
  }
 ],
 "metadata": {
  "kernelspec": {
   "display_name": "Python 3 (ipykernel)",
   "language": "python",
   "name": "python3"
  },
  "language_info": {
   "codemirror_mode": {
    "name": "ipython",
    "version": 3
   },
   "file_extension": ".py",
   "mimetype": "text/x-python",
   "name": "python",
   "nbconvert_exporter": "python",
   "pygments_lexer": "ipython3",
   "version": "3.12.4"
  }
 },
 "nbformat": 4,
 "nbformat_minor": 5
}
